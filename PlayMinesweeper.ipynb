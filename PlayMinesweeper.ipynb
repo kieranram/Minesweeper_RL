{
 "cells": [
  {
   "cell_type": "code",
   "execution_count": 1,
   "metadata": {},
   "outputs": [],
   "source": [
    "%matplotlib inline\n",
    "import numpy as np\n",
    "\n",
    "from minefield import Minefield\n",
    "from network import DQ_Sweeper\n",
    "\n",
    "from tqdm import tqdm\n",
    "\n",
    "rewards = {'safe_reward' : 15, \n",
    "          'repeat_loss' : -5, \n",
    "          'mine_loss' : -10, \n",
    "          'completion_reward' : 30}\n",
    "env = Minefield(8, 8, 10, **rewards)\n",
    "\n",
    "filters = [10, 8, 5]\n",
    "sizes = [5, 5, 5]\n",
    "env_shape = (8, 8, 11)\n",
    "\n",
    "model = DQ_Sweeper(env, filters, sizes, 0.01, 1, 100, 0.2, f = 'model_June09')"
   ]
  },
  {
   "cell_type": "code",
   "execution_count": 2,
   "metadata": {},
   "outputs": [
    {
     "name": "stderr",
     "output_type": "stream",
     "text": [
      "100%|██████████| 50/50 [00:12<00:00,  3.88it/s]\n"
     ]
    }
   ],
   "source": [
    "#model.show_single(seed = 0)\n",
    "for i in tqdm(range(50)):\n",
    "    model.run_episode(use_epsilon = False)"
   ]
  },
  {
   "cell_type": "code",
   "execution_count": 3,
   "metadata": {},
   "outputs": [],
   "source": [
    "model.fit(64)"
   ]
  },
  {
   "cell_type": "code",
   "execution_count": null,
   "metadata": {},
   "outputs": [],
   "source": []
  },
  {
   "cell_type": "code",
   "execution_count": 4,
   "metadata": {},
   "outputs": [],
   "source": [
    "batch_size = 64\n",
    "n_hist = model.logger.states.shape[0]\n",
    "\n",
    "samps = np.random.choice(n_hist, size = batch_size, replace = False)\n",
    "\n",
    "states = model.logger.states[samps]\n",
    "actions = [model.logger.actions[i] for i in samps]\n",
    "\n",
    "rewards = np.array([model.logger.rewards[i] for i in samps])\n",
    "\n",
    "is_end = np.array([model.logger.is_end[i] for i in samps])\n",
    "\n",
    "preds = model.model.predict(states)\n",
    "\n",
    "# mod to deal with case of last sample being chosen\n",
    "q_maxes = model.model.predict(model.logger.states[(samps + 1) % n_hist]).max(axis = (1, 2, 3)) \n",
    "adj = q_maxes * (1 - is_end) # if not the final move, add value of next state\n",
    "vals = rewards + adj"
   ]
  },
  {
   "cell_type": "code",
   "execution_count": 8,
   "metadata": {},
   "outputs": [
    {
     "data": {
      "text/plain": [
       "array([ 33.2707119 ,  37.16631699,  36.16477585,  43.05189896,\n",
       "        32.85065269,  33.37192345,  37.79580116,  36.27749634,\n",
       "        37.17007828,  36.43553734,  32.62354851,  35.88439751,\n",
       "        34.4118824 ,  33.41992378,  31.8886261 ,  37.76851654,\n",
       "        35.72603035,  33.44233131,  33.10858727,  35.94563293,\n",
       "        31.33359146,  36.94706154,  47.76549149,  34.23225403,\n",
       "        35.77067947,  35.5647068 , -10.        ,  37.40695763,\n",
       "        30.        ,  43.0510807 ,  33.03935432,  32.22664833,\n",
       "        38.25855255,  35.4971447 ,  35.9268074 ,  35.96170616,\n",
       "        34.79483032,  36.1694088 ,  36.10784721,  34.82097435,\n",
       "        33.79294968,  36.24902916,  36.96309853,  30.39759064,\n",
       "        29.95071793,  29.20947361,  37.11466599,  34.11537743,\n",
       "        35.32587051,  30.13088703,  36.21368408,  37.95280457,\n",
       "        34.53451347,  33.41639709,  33.85217857,  37.82502174,\n",
       "        34.7365284 ,  33.10308456,  36.75537491,  35.08343315,\n",
       "        33.79097176,  36.09489632,  46.47138214,  32.33316422])"
      ]
     },
     "execution_count": 8,
     "metadata": {},
     "output_type": "execute_result"
    }
   ],
   "source": [
    "vals"
   ]
  },
  {
   "cell_type": "code",
   "execution_count": 6,
   "metadata": {},
   "outputs": [
    {
     "data": {
      "text/plain": [
       "array([False, False, False, False, False, False, False, False, False,\n",
       "       False, False, False, False, False, False, False, False, False,\n",
       "       False, False, False, False, False, False, False, False,  True,\n",
       "       False,  True, False, False, False, False, False, False, False,\n",
       "       False, False, False, False, False, False, False, False, False,\n",
       "       False, False, False, False, False, False, False, False, False,\n",
       "       False, False, False, False, False, False, False, False, False,\n",
       "       False])"
      ]
     },
     "execution_count": 6,
     "metadata": {},
     "output_type": "execute_result"
    }
   ],
   "source": [
    "is_end"
   ]
  },
  {
   "cell_type": "code",
   "execution_count": 7,
   "metadata": {},
   "outputs": [
    {
     "ename": "NameError",
     "evalue": "name 'plt' is not defined",
     "output_type": "error",
     "traceback": [
      "\u001b[0;31m---------------------------------------------------------------------------\u001b[0m",
      "\u001b[0;31mNameError\u001b[0m                                 Traceback (most recent call last)",
      "\u001b[0;32m<ipython-input-7-c3158232cf6c>\u001b[0m in \u001b[0;36m<module>\u001b[0;34m\u001b[0m\n\u001b[1;32m      1\u001b[0m \u001b[0mn_next\u001b[0m \u001b[0;34m=\u001b[0m \u001b[0;34m(\u001b[0m\u001b[0;36m1\u001b[0m \u001b[0;34m-\u001b[0m \u001b[0mis_end\u001b[0m\u001b[0;34m)\u001b[0m\u001b[0;34m.\u001b[0m\u001b[0msum\u001b[0m\u001b[0;34m(\u001b[0m\u001b[0;34m)\u001b[0m\u001b[0;34m\u001b[0m\u001b[0;34m\u001b[0m\u001b[0m\n\u001b[1;32m      2\u001b[0m \u001b[0;34m\u001b[0m\u001b[0m\n\u001b[0;32m----> 3\u001b[0;31m \u001b[0mplt\u001b[0m\u001b[0;34m.\u001b[0m\u001b[0mfigure\u001b[0m\u001b[0;34m(\u001b[0m\u001b[0mfigsize\u001b[0m \u001b[0;34m=\u001b[0m \u001b[0;34m(\u001b[0m\u001b[0;36m10\u001b[0m\u001b[0;34m,\u001b[0m \u001b[0;36m5\u001b[0m \u001b[0;34m*\u001b[0m \u001b[0mn_next\u001b[0m\u001b[0;34m)\u001b[0m\u001b[0;34m)\u001b[0m\u001b[0;34m\u001b[0m\u001b[0;34m\u001b[0m\u001b[0m\n\u001b[0m\u001b[1;32m      4\u001b[0m \u001b[0;32mfor\u001b[0m \u001b[0mi\u001b[0m \u001b[0;32min\u001b[0m \u001b[0mrange\u001b[0m\u001b[0;34m(\u001b[0m\u001b[0mn_next\u001b[0m\u001b[0;34m)\u001b[0m\u001b[0;34m:\u001b[0m\u001b[0;34m\u001b[0m\u001b[0;34m\u001b[0m\u001b[0m\n\u001b[1;32m      5\u001b[0m     \u001b[0ml\u001b[0m \u001b[0;34m=\u001b[0m \u001b[0mplt\u001b[0m\u001b[0;34m.\u001b[0m\u001b[0msubplot\u001b[0m\u001b[0;34m(\u001b[0m\u001b[0mn_next\u001b[0m\u001b[0;34m,\u001b[0m \u001b[0;36m2\u001b[0m\u001b[0;34m,\u001b[0m \u001b[0;36m2\u001b[0m \u001b[0;34m*\u001b[0m \u001b[0mi\u001b[0m \u001b[0;34m+\u001b[0m \u001b[0;36m1\u001b[0m\u001b[0;34m)\u001b[0m\u001b[0;34m\u001b[0m\u001b[0;34m\u001b[0m\u001b[0m\n",
      "\u001b[0;31mNameError\u001b[0m: name 'plt' is not defined"
     ]
    }
   ],
   "source": [
    "n_next = (1 - is_end).sum()\n",
    "\n",
    "plt.figure(figsize = (10, 5 * n_next))\n",
    "for i in range(n_next):\n",
    "    l = plt.subplot(n_next, 2, 2 * i + 1)\n",
    "    r = plt.subplot(n_next, 2, 2 * i + 2)\n",
    "    \n",
    "    "
   ]
  },
  {
   "cell_type": "code",
   "execution_count": null,
   "metadata": {},
   "outputs": [],
   "source": [
    "states[4][:, :, :-1]"
   ]
  },
  {
   "cell_type": "code",
   "execution_count": null,
   "metadata": {},
   "outputs": [],
   "source": [
    "rewards[np.where(is_end)]"
   ]
  },
  {
   "cell_type": "code",
   "execution_count": null,
   "metadata": {},
   "outputs": [],
   "source": []
  }
 ],
 "metadata": {
  "kernelspec": {
   "display_name": "Python 3",
   "language": "python",
   "name": "python3"
  },
  "language_info": {
   "codemirror_mode": {
    "name": "ipython",
    "version": 3
   },
   "file_extension": ".py",
   "mimetype": "text/x-python",
   "name": "python",
   "nbconvert_exporter": "python",
   "pygments_lexer": "ipython3",
   "version": "3.7.4"
  }
 },
 "nbformat": 4,
 "nbformat_minor": 4
}
