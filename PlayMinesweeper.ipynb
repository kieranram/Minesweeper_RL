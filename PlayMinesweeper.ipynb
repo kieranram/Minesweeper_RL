{
 "cells": [
  {
   "cell_type": "code",
   "execution_count": 1,
   "metadata": {},
   "outputs": [],
   "source": [
    "%matplotlib inline\n",
    "import matplotlib.pyplot as plt\n",
    "import seaborn as sns\n",
    "\n",
    "sns.set_style('darkgrid')\n",
    "\n",
    "import numpy as np\n",
    "\n",
    "from minefield import Minefield\n",
    "from network import DQ_Sweeper\n",
    "\n",
    "from tqdm import tqdm\n",
    "\n",
    "rewards = {'safe_reward' : 15, \n",
    "          'repeat_loss' : -5, \n",
    "          'mine_loss' : -10, \n",
    "          'completion_reward' : 30}\n",
    "env = Minefield(8, 8, 10, **rewards)\n",
    "\n",
    "filters = [10, 8, 5]\n",
    "sizes = [5, 5, 5]\n",
    "env_shape = (8, 8, 11)\n",
    "\n",
    "model = DQ_Sweeper(env, filters, sizes, 0.9, 0.9995, 10, 0.2)"
   ]
  },
  {
   "cell_type": "code",
   "execution_count": null,
   "metadata": {},
   "outputs": [
    {
     "name": "stderr",
     "output_type": "stream",
     "text": [
      " 10%|▉         | 9998/100000 [20:56<2:32:39,  9.83it/s] "
     ]
    },
    {
     "name": "stdout",
     "output_type": "stream",
     "text": [
      "WARNING:tensorflow:From /home/kieran/anaconda3/envs/tfenv/lib/python3.7/site-packages/tensorflow_core/python/ops/resource_variable_ops.py:1786: calling BaseResourceVariable.__init__ (from tensorflow.python.ops.resource_variable_ops) with constraint is deprecated and will be removed in a future version.\n",
      "Instructions for updating:\n",
      "If using Keras pass *_constraint arguments to layers.\n",
      "INFO:tensorflow:Assets written to: Models/model_10000_49_12_15Jun21/assets\n"
     ]
    },
    {
     "name": "stderr",
     "output_type": "stream",
     "text": [
      " 20%|█▉        | 19999/100000 [47:27<3:20:30,  6.65it/s] "
     ]
    },
    {
     "name": "stdout",
     "output_type": "stream",
     "text": [
      "INFO:tensorflow:Assets written to: Models/model_20000_15_13_15Jun21/assets\n"
     ]
    },
    {
     "name": "stderr",
     "output_type": "stream",
     "text": [
      " 29%|██▉       | 29273/100000 [1:20:05<6:15:35,  3.14it/s] "
     ]
    }
   ],
   "source": [
    "model.training_loop(100000, 128)"
   ]
  },
  {
   "cell_type": "code",
   "execution_count": null,
   "metadata": {},
   "outputs": [],
   "source": [
    "plt.figure(figsize = (20, 10))\n",
    "sns.regplot(x = np.arange(len(model.logger.tests)), y = model.logger.tests)"
   ]
  },
  {
   "cell_type": "code",
   "execution_count": null,
   "metadata": {},
   "outputs": [],
   "source": [
    "model.show_single('hundok')"
   ]
  },
  {
   "cell_type": "code",
   "execution_count": null,
   "metadata": {},
   "outputs": [],
   "source": [
    "env3 = Minefield(10, 10, 30, **rewards)\n",
    "\n",
    "model3 = DQ_Sweeper(env3, filters, sizes, 0.01, 1, 100, 0.2, weights = 'model_June09')\n",
    "\n",
    "model3.show_single('bigger_hundok')"
   ]
  },
  {
   "cell_type": "code",
   "execution_count": null,
   "metadata": {},
   "outputs": [],
   "source": [
    "0.9995**10000"
   ]
  },
  {
   "cell_type": "code",
   "execution_count": null,
   "metadata": {},
   "outputs": [],
   "source": []
  }
 ],
 "metadata": {
  "kernelspec": {
   "display_name": "Python 3",
   "language": "python",
   "name": "python3"
  },
  "language_info": {
   "codemirror_mode": {
    "name": "ipython",
    "version": 3
   },
   "file_extension": ".py",
   "mimetype": "text/x-python",
   "name": "python",
   "nbconvert_exporter": "python",
   "pygments_lexer": "ipython3",
   "version": "3.7.4"
  }
 },
 "nbformat": 4,
 "nbformat_minor": 4
}
